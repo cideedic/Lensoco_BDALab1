{
 "cells": [
  {
   "cell_type": "code",
   "execution_count": 1,
   "metadata": {},
   "outputs": [],
   "source": [
    "from pyspark import SparkContext\n",
    "\n",
    "# Initialize SparkContext\n",
    "sc = SparkContext(\"local\", \"RDD Pipeline Example\")"
   ]
  },
  {
   "cell_type": "code",
   "execution_count": 2,
   "metadata": {},
   "outputs": [],
   "source": [
    "# Load dataset\n",
    "data = [\n",
    "    \"1,101,200,Electronics,2025-01-01\",\n",
    "    \"2,102,50,Groceries,2025-01-01\",\n",
    "    \"3,101,300,Electronics,2025-01-02\",\n",
    "    \"4,103,20,Clothing,2025-01-03\",\n",
    "    \"5,104,150,Electronics,2025-01-04\"\n",
    "]\n",
    "rdd = sc.parallelize(data)"
   ]
  },
  {
   "cell_type": "code",
   "execution_count": 3,
   "metadata": {},
   "outputs": [],
   "source": [
    "# Transformation 1: Split each line into a list\n",
    "rdd_split = rdd.map(lambda line: line.split(','))"
   ]
  },
  {
   "cell_type": "code",
   "execution_count": 4,
   "metadata": {},
   "outputs": [],
   "source": [
    "# Transformation 2: Filter transactions with amount > 100\n",
    "rdd_filtered = rdd_split.filter(lambda x: int(x[2]) > 100)"
   ]
  },
  {
   "cell_type": "code",
   "execution_count": 5,
   "metadata": {},
   "outputs": [],
   "source": [
    "# Transformation 3: Map to (customer_id, amount)\n",
    "rdd_mapped = rdd_filtered.map(lambda x: (x[1], int(x[2])))"
   ]
  },
  {
   "cell_type": "code",
   "execution_count": 6,
   "metadata": {},
   "outputs": [],
   "source": [
    "# Transformation 4: Reduce by key to get total amount spent per customer\n",
    "rdd_reduced = rdd_mapped.reduceByKey(lambda x, y: x + y)"
   ]
  },
  {
   "cell_type": "code",
   "execution_count": 7,
   "metadata": {},
   "outputs": [],
   "source": [
    "# Transformation 5: Sort customers by total spending in descending order\n",
    "rdd_sorted = rdd_reduced.sortBy(lambda x: x[1], ascending=False)"
   ]
  },
  {
   "cell_type": "code",
   "execution_count": 8,
   "metadata": {},
   "outputs": [],
   "source": [
    "# Action: Collect the results\n",
    "results = rdd_sorted.collect()"
   ]
  },
  {
   "cell_type": "code",
   "execution_count": 9,
   "metadata": {},
   "outputs": [
    {
     "name": "stdout",
     "output_type": "stream",
     "text": [
      "Customer ID: 101, Total Spending: 500\n",
      "Customer ID: 104, Total Spending: 150\n"
     ]
    }
   ],
   "source": [
    "# Display results\n",
    "for result in results:\n",
    "    print(f\"Customer ID: {result[0]}, Total Spending: {result[1]}\")\n",
    "\n",
    "# Stop SparkContext\n",
    "sc.stop()"
   ]
  }
 ],
 "metadata": {
  "kernelspec": {
   "display_name": "Python 3",
   "language": "python",
   "name": "python3"
  },
  "language_info": {
   "codemirror_mode": {
    "name": "ipython",
    "version": 3
   },
   "file_extension": ".py",
   "mimetype": "text/x-python",
   "name": "python",
   "nbconvert_exporter": "python",
   "pygments_lexer": "ipython3",
   "version": "3.10.0"
  }
 },
 "nbformat": 4,
 "nbformat_minor": 2
}
